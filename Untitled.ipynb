{
 "cells": [
  {
   "cell_type": "code",
   "execution_count": 3,
   "metadata": {},
   "outputs": [
    {
     "name": "stdout",
     "output_type": "stream",
     "text": [
      "i am a student\n",
      "我叫xiaoming,今年20岁,住在shanghai,china\n"
     ]
    }
   ],
   "source": [
    "#关键字参数1\n",
    "def stu(name,age,addr):\n",
    "    print('i am a student')\n",
    "    print('我叫{0},今年{1}岁,住在{2}'.format(name,age,addr))\n",
    "    \n",
    "n = 'xiaoming'\n",
    "a = 20\n",
    "ad = 'shanghai,china'\n",
    "stu(n,a,ad)"
   ]
  },
  {
   "cell_type": "code",
   "execution_count": null,
   "metadata": {
    "collapsed": true
   },
   "outputs": [],
   "source": []
  },
  {
   "cell_type": "code",
   "execution_count": 6,
   "metadata": {},
   "outputs": [
    {
     "name": "stdout",
     "output_type": "stream",
     "text": [
      "i am a student\n",
      "我叫xiaoming,今年20岁,住在shanghai,china\n",
      "i am a student\n",
      "我叫xiaoming,今年20岁,住在shanghai,china\n"
     ]
    }
   ],
   "source": [
    "#关键字参数2\n",
    "def stu_key(name = None,age = None,addr = None):\n",
    "    print('i am a student')\n",
    "    print('我叫{0},今年{1}岁,住在{2}'.format(name,age,addr))\n",
    "    \n",
    "n = 'xiaoming'\n",
    "a = 20\n",
    "ad = 'shanghai,china'\n",
    "#改变参数位置不影响输出结果\n",
    "stu_key(name=n,age=a,addr=ad)\n",
    "stu_key(addr=ad,name=n,age=a)"
   ]
  },
  {
   "cell_type": "code",
   "execution_count": 7,
   "metadata": {},
   "outputs": [
    {
     "name": "stdout",
     "output_type": "stream",
     "text": [
      "hello 大家好,以下是我的自我介绍:\n",
      "<class 'tuple'>\n",
      "xiaoming\n",
      "20\n",
      "beijing,china\n",
      "single\n",
      "hello 大家好,以下是我的自我介绍:\n",
      "<class 'tuple'>\n",
      "big zhou\n",
      "22\n"
     ]
    }
   ],
   "source": [
    "#收集参数1\n",
    "#模拟自我介绍,具体内容不确定\n",
    "#args为一个list\n",
    "def stu(*args):\n",
    "    print('hello 大家好,以下是我的自我介绍:')\n",
    "    print(type(args))\n",
    "    for item in args:\n",
    "        print(item)\n",
    "    pass\n",
    "\n",
    "stu('xiaoming',20,'beijing,china','single')\n",
    "stu('big zhou',22)"
   ]
  },
  {
   "cell_type": "code",
   "execution_count": 8,
   "metadata": {},
   "outputs": [
    {
     "name": "stdout",
     "output_type": "stream",
     "text": [
      "hello 大家好,以下是我的自我介绍:\n",
      "<class 'tuple'>\n"
     ]
    }
   ],
   "source": [
    "#收集参数2\n",
    "#收集参数可以不带任何实参调用,此时收集参数为空tuple\n",
    "stu()"
   ]
  },
  {
   "cell_type": "code",
   "execution_count": 9,
   "metadata": {},
   "outputs": [
    {
     "ename": "TypeError",
     "evalue": "stu() got an unexpected keyword argument 'name'",
     "output_type": "error",
     "traceback": [
      "\u001b[0;31m---------------------------------------------------------------------------\u001b[0m",
      "\u001b[0;31mTypeError\u001b[0m                                 Traceback (most recent call last)",
      "\u001b[0;32m<ipython-input-9-486fdc8f8fb5>\u001b[0m in \u001b[0;36m<module>\u001b[0;34m()\u001b[0m\n\u001b[1;32m      1\u001b[0m \u001b[0;31m#收集参数-关键字收集参数\u001b[0m\u001b[0;34m\u001b[0m\u001b[0;34m\u001b[0m\u001b[0m\n\u001b[1;32m      2\u001b[0m \u001b[0;31m#如果使用未定义的关键字收集参数格式调用,会出现问题\u001b[0m\u001b[0;34m\u001b[0m\u001b[0;34m\u001b[0m\u001b[0m\n\u001b[0;32m----> 3\u001b[0;31m \u001b[0mstu\u001b[0m\u001b[0;34m(\u001b[0m\u001b[0mname\u001b[0m\u001b[0;34m=\u001b[0m\u001b[0;34m'小明'\u001b[0m\u001b[0;34m)\u001b[0m\u001b[0;34m\u001b[0m\u001b[0m\n\u001b[0m",
      "\u001b[0;31mTypeError\u001b[0m: stu() got an unexpected keyword argument 'name'"
     ]
    }
   ],
   "source": [
    "#收集参数-关键字收集参数\n",
    "#如果使用未定义的关键字收集参数格式调用,会出现问题\n",
    "stu(name='小明')"
   ]
  },
  {
   "cell_type": "code",
   "execution_count": 13,
   "metadata": {},
   "outputs": [
    {
     "name": "stdout",
     "output_type": "stream",
     "text": [
      "hello 大家好,以下是自我介绍\n",
      "<class 'dict'>\n",
      "******************************\n",
      "hello 大家好,以下是自我介绍\n",
      "<class 'dict'>\n"
     ]
    }
   ],
   "source": [
    "#收集参数-关键字参数\n",
    "#使用关键字参数调用\n",
    "def stu(**kwargs):\n",
    "    print('hello 大家好,以下是自我介绍')\n",
    "    print(type(kwargs))\n",
    "    \n",
    "    \n",
    "stu(name='小明',age=20,addr='广西南宁',work='程序猿',married='单身狗')\n",
    "print('*'*30)  \n",
    "stu(name='大神周',age=25,addr='深圳龙岗',work='工程狮',married='单身狗')"
   ]
  },
  {
   "cell_type": "code",
   "execution_count": null,
   "metadata": {
    "collapsed": true
   },
   "outputs": [],
   "source": []
  },
  {
   "cell_type": "code",
   "execution_count": null,
   "metadata": {
    "collapsed": true
   },
   "outputs": [],
   "source": []
  },
  {
   "cell_type": "code",
   "execution_count": null,
   "metadata": {
    "collapsed": true
   },
   "outputs": [],
   "source": []
  },
  {
   "cell_type": "code",
   "execution_count": null,
   "metadata": {
    "collapsed": true
   },
   "outputs": [],
   "source": []
  },
  {
   "cell_type": "code",
   "execution_count": null,
   "metadata": {
    "collapsed": true
   },
   "outputs": [],
   "source": []
  },
  {
   "cell_type": "code",
   "execution_count": null,
   "metadata": {
    "collapsed": true
   },
   "outputs": [],
   "source": []
  },
  {
   "cell_type": "code",
   "execution_count": null,
   "metadata": {
    "collapsed": true
   },
   "outputs": [],
   "source": []
  }
 ],
 "metadata": {
  "kernelspec": {
   "display_name": "Python 3",
   "language": "python",
   "name": "python3"
  },
  "language_info": {
   "codemirror_mode": {
    "name": "ipython",
    "version": 3
   },
   "file_extension": ".py",
   "mimetype": "text/x-python",
   "name": "python",
   "nbconvert_exporter": "python",
   "pygments_lexer": "ipython3",
   "version": "3.6.3"
  }
 },
 "nbformat": 4,
 "nbformat_minor": 2
}
